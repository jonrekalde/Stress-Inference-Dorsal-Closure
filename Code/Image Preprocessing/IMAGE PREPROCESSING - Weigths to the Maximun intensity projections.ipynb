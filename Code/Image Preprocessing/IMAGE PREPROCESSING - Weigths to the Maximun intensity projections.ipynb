{
 "cells": [
  {
   "cell_type": "code",
   "execution_count": 89,
   "id": "c18ce364",
   "metadata": {},
   "outputs": [
    {
     "name": "stderr",
     "output_type": "stream",
     "text": [
      "C:\\Users\\Jon\\AppData\\Local\\Temp\\ipykernel_2036\\54714764.py:64: DeprecationWarning: <tifffile.imsave> is deprecated. Use tifffile.imwrite\n",
      "  imsave(output_file, final_proj)\n"
     ]
    }
   ],
   "source": [
    "### import numpy as np\n",
    "from tifffile import imread, imsave\n",
    "import matplotlib.pyplot as plt\n",
    "from skimage import exposure\n",
    "from skimage.morphology import white_tophat, disk\n",
    "\n",
    "# Leer el archivo\n",
    "img = imread(r\"C:\\Users\\Jon\\Documents\\Master Biofísica\\TFM\\PELIS MOSCAS - ORIGINALES\\22126 120523 c381ECadGFP UASMbsN300\\2-\\2- intento.tif\")\n",
    "\n",
    "# Obtener el número total de slides en el eje z y tiempo\n",
    "num_time, num_z, height, width = img.shape\n",
    "\n",
    "# Aplicar la operación top-hat a cada slide\n",
    "for t in range(num_time):\n",
    "    for z in range(num_z):\n",
    "        img[t, z] = white_tophat(img[t, z], footprint=disk(2))\n",
    "\n",
    "img = img.astype(np.float16)\n",
    "# Definir los rangos de los slides\n",
    "ranges = [(1, 3), (1, 5), (1, 15), (1, 23)]  # Ajusta los rangos según sea necesario\n",
    "\n",
    "# Iniciar la proyección final a cero y con tipo float64\n",
    "final_proj = []\n",
    "\n",
    "# Loop a través de los tiempos y rangos\n",
    "for t in range(num_time):\n",
    "    time_proj = np.zeros_like(img[0][0], dtype=np.float16)\n",
    "    #projs = []\n",
    "    for i, (start, end) in enumerate(ranges):\n",
    "        # Comprobar si el final del rango excede el número de slides\n",
    "        if end > num_z:\n",
    "            print(f\"El rango {start}-{end} excede el número de slides. Reduciendo el final a {num_z}.\")\n",
    "            end = num_z\n",
    "\n",
    "        # Realizar la proyección máxima en el rango actual\n",
    "        max_proj = np.max(img[t][start-1:end], axis=0)  # Restamos 1 al inicio porque Python indexa desde 0\n",
    "\n",
    "        # Multiplicar la proyección máxima por un factor decreciente\n",
    "        weighted_proj = max_proj * (1.0 / (i + 1))\n",
    "\n",
    "        \n",
    "        # Sumar a la proyección final\n",
    "        time_proj += weighted_proj\n",
    "\n",
    "    # Agrega la proyección del tiempo al stack final\n",
    "    final_proj.append(time_proj)\n",
    "    \n",
    "    \n",
    "# Añadir la proyección ponderada a la lista de proyecciones\n",
    "        #projs.append(weighted_proj)\n",
    "\n",
    "    # Calcular la media de las proyecciones ponderadas y añadirla a la proyección final\n",
    "    #final_proj.append(np.mean(projs, axis=0))\n",
    "\n",
    "# Convertir la lista en una matriz numpy para guardarla como una imagen\n",
    "final_proj = np.array(final_proj)\n",
    "\n",
    "# Ajustar gamma de cada slide en el tiempo\n",
    "#for t in range(final_proj.shape[0]):\n",
    "#    final_proj[t] = exposure.adjust_gamma(final_proj[t], gamma=0.5)  # Ajustar el valor de gamma según sea necesario\n",
    "#final_proj = final_proj * 255\n",
    "\n",
    "output_file = r\"C:\\Users\\Jon\\Documents\\Master Biofísica\\TFM\\PELIS MOSCAS - ORIGINALES\\22126 120523 c381ECadGFP UASMbsN300\\2-\\2-maximos.tif\"\n",
    "imsave(output_file, final_proj)\n"
   ]
  },
  {
   "cell_type": "code",
   "execution_count": null,
   "id": "81f2a5b7",
   "metadata": {},
   "outputs": [],
   "source": []
  },
  {
   "cell_type": "code",
   "execution_count": null,
   "id": "78601c50",
   "metadata": {},
   "outputs": [],
   "source": []
  },
  {
   "cell_type": "code",
   "execution_count": null,
   "id": "a028bd5a",
   "metadata": {},
   "outputs": [],
   "source": []
  },
  {
   "cell_type": "code",
   "execution_count": null,
   "id": "26bc75c8",
   "metadata": {},
   "outputs": [],
   "source": []
  },
  {
   "cell_type": "code",
   "execution_count": null,
   "id": "a51846b3",
   "metadata": {},
   "outputs": [],
   "source": []
  }
 ],
 "metadata": {
  "kernelspec": {
   "display_name": "Python 3 (ipykernel)",
   "language": "python",
   "name": "python3"
  },
  "language_info": {
   "codemirror_mode": {
    "name": "ipython",
    "version": 3
   },
   "file_extension": ".py",
   "mimetype": "text/x-python",
   "name": "python",
   "nbconvert_exporter": "python",
   "pygments_lexer": "ipython3",
   "version": "3.10.11"
  }
 },
 "nbformat": 4,
 "nbformat_minor": 5
}
